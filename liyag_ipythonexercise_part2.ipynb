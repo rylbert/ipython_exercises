{
 "metadata": {
  "name": ""
 },
 "nbformat": 3,
 "nbformat_minor": 0,
 "worksheets": [
  {
   "cells": [
    {
     "cell_type": "markdown",
     "metadata": {},
     "source": [
      "Part 2.1  Using the Command History\n",
      "\n",
      "1.  Searching, completing and executing previously-executed commands with minimal typing.\n",
      "Persisting the command history between sessions.\n",
      "Logging the input/output history to a file.\n",
      "\n",
      "2.  Either CTRL-P or the up arrow key."
     ]
    },
    {
     "cell_type": "markdown",
     "metadata": {},
     "source": [
      "Part 2.2  Input and Output Variables Using \\_ (one underscore) and __ (two underscores) Variables\n",
      "\n",
      "3.  Single underscore (_) and double underscore (__) stores the two previous output variables and it can be used by trailing the underscore with the line number, an example would be _21, this means to access the output in line 21.\n",
      "The _iX stores the input variable and it's accessed by typing the line number like _i23, this gets the input at line 23."
     ]
    },
    {
     "cell_type": "markdown",
     "metadata": {},
     "source": [
      "Part 2.3  Logging the Input and Output\n",
      "\n",
      "1.  By typing %logstart."
     ]
    },
    {
     "cell_type": "markdown",
     "metadata": {},
     "source": [
      "Part 2.3:  Interacting with the Operating System\n",
      "\n",
      "1. !cmd\n",
      "2. output = !cmd args\n",
      "3. %bookmark\n",
      "4. %cd directory\n",
      "5. %pwd\n",
      "6. %dhist\n",
      "7. %env"
     ]
    },
    {
     "cell_type": "markdown",
     "metadata": {},
     "source": [
      "Part 2.4:  Shell Commands and Aliases\n",
      "\n",
      "1.  The console output of a shell command can be stored in a variable by assigning the !-escaped expressions to a variables.  Get your IP address and store it in a Python variable 'my_ip_info'.  (Hint: the linux command to use is ifconfig; the IP address is most likely found in the eth0, use redirection and grep for 'inet')."
     ]
    },
    {
     "cell_type": "markdown",
     "metadata": {},
     "source": [
      "Part 2.5:  Directory Bookmark System\n",
      "\n",
      "1.  %bookmark db /Documents/exercises\n",
      "2.  Bookmarks persist between IPython sessions while aliases do not."
     ]
    },
    {
     "cell_type": "markdown",
     "metadata": {},
     "source": [
      "Software Development Tools"
     ]
    },
    {
     "cell_type": "markdown",
     "metadata": {},
     "source": [
      "Part 2.6  Interactive Debugger\n",
      "\n",
      "1.  I can see the line where the error occurred."
     ]
    },
    {
     "cell_type": "markdown",
     "metadata": {},
     "source": [
      "Part 2.7  Timing Code: %time and %timeit.\n",
      "\n",
      "   1.  %time runs a statement once then reports the total execution time<br>\n",
      "    %timeit is a more precise version of %time; it runs a statement multiple times to get a more accurate result<br>"
     ]
    },
    {
     "cell_type": "code",
     "collapsed": false,
     "input": [
      "nums = [1,2,3,4,5]"
     ],
     "language": "python",
     "metadata": {},
     "outputs": [],
     "prompt_number": 1
    },
    {
     "cell_type": "code",
     "collapsed": false,
     "input": [
      "%time [x for x in nums print x]"
     ],
     "language": "python",
     "metadata": {},
     "outputs": [
      {
       "ename": "SyntaxError",
       "evalue": "invalid syntax (<unknown>, line 1)",
       "output_type": "pyerr",
       "traceback": [
        "\u001b[0;36m  File \u001b[0;32m\"<unknown>\"\u001b[0;36m, line \u001b[0;32m1\u001b[0m\n\u001b[0;31m    [x for x in nums print x]\u001b[0m\n\u001b[0m                         ^\u001b[0m\n\u001b[0;31mSyntaxError\u001b[0m\u001b[0;31m:\u001b[0m invalid syntax\n"
       ]
      }
     ],
     "prompt_number": 2
    },
    {
     "cell_type": "code",
     "collapsed": false,
     "input": [
      "%timeit [x for x in nums print x]"
     ],
     "language": "python",
     "metadata": {},
     "outputs": [
      {
       "ename": "SyntaxError",
       "evalue": "invalid syntax (<unknown>, line 1)",
       "output_type": "pyerr",
       "traceback": [
        "\u001b[0;36m  File \u001b[0;32m\"<unknown>\"\u001b[0;36m, line \u001b[0;32m1\u001b[0m\n\u001b[0;31m    [x for x in nums print x]\u001b[0m\n\u001b[0m                         ^\u001b[0m\n\u001b[0;31mSyntaxError\u001b[0m\u001b[0;31m:\u001b[0m invalid syntax\n"
       ]
      }
     ],
     "prompt_number": 3
    },
    {
     "cell_type": "code",
     "collapsed": false,
     "input": [],
     "language": "python",
     "metadata": {},
     "outputs": []
    }
   ],
   "metadata": {}
  }
 ]
}